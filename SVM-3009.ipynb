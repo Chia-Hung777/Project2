{
 "cells": [
  {
   "cell_type": "code",
   "execution_count": 1,
   "id": "ed7eca57",
   "metadata": {},
   "outputs": [],
   "source": [
    "import pandas as pd\n",
    "import numpy as np\n",
    "\n",
    "data_frame = pd.read_excel('Data.xlsx', sheet_name=8, skiprows=1)"
   ]
  },
  {
   "cell_type": "code",
   "execution_count": 12,
   "id": "9bddb1a3",
   "metadata": {},
   "outputs": [
    {
     "name": "stdout",
     "output_type": "stream",
     "text": [
      "<class 'pandas.core.frame.DataFrame'>\n",
      "      MIN      MAX         Mean     Mode   Median      Variance  \\\n",
      "0  799.75  5096.25  2890.110941  2877.00  2939.00  7.252338e+05   \n",
      "1  779.50  5039.00  2768.068458  2944.25  2842.75  5.951218e+05   \n",
      "2  775.25  4660.25  2464.229240  1797.00  2611.75  6.541775e+05   \n",
      "3  799.25  5461.75  2625.063454  3379.75  2852.25  8.136408e+05   \n",
      "4  788.25  6031.25  2782.852515  4493.50  2710.00  1.224544e+06   \n",
      "\n",
      "   Standard Deviation  MIN.1    MAX.1      Mean.1  ...    Variance.1  \\\n",
      "0          851.606623   0.25  1276.00  161.719355  ...   51175.14638   \n",
      "1          771.441403   1.00  1536.75  144.633871  ...   64003.27458   \n",
      "2          808.812378   1.25  1715.25  238.251524  ...   86054.08244   \n",
      "3          902.020393   1.75  1792.25  254.396552  ...  145956.63420   \n",
      "4         1106.590990   2.75  1625.25  163.325000  ...   44762.08318   \n",
      "\n",
      "   Standard Deviation.1    MIN.2  MAX.2      Mean.2  Mode.2  Median.2  \\\n",
      "0            226.219244 -1523.75  -0.50 -258.334112   -2.75   -94.000   \n",
      "1            252.988685 -1630.75  -0.25 -218.905405  -61.75   -91.500   \n",
      "2            293.349761 -1383.25  -2.25 -322.425620 -156.75  -177.750   \n",
      "3            382.042712 -1740.75  -0.50 -300.501866   -5.25  -131.125   \n",
      "4            211.570516 -1932.25  -0.50 -264.012931 -175.25  -112.375   \n",
      "\n",
      "     Variance.2  Standard Deviation.2  Labels  \n",
      "0  139552.92680            373.567834       0  \n",
      "1   94114.89665            306.781513       0  \n",
      "2  112345.35280            335.179583       0  \n",
      "3  143968.65080            379.432011       0  \n",
      "4  123451.14980            351.356158       0  \n",
      "\n",
      "[5 rows x 22 columns]\n"
     ]
    }
   ],
   "source": [
    "print(type(data_frame))\n",
    "print(data_frame.head())"
   ]
  },
  {
   "cell_type": "code",
   "execution_count": 3,
   "id": "7e555028",
   "metadata": {},
   "outputs": [],
   "source": [
    "from sklearn.model_selection import train_test_split\n",
    "\n",
    "features = data_frame.iloc[:, :-1]\n",
    "labels = data_frame.iloc[:, -1]  \n",
    "\n",
    "train_features, test_features, train_labels, test_labels = train_test_split(\n",
    "    features, labels, test_size=0.2, random_state=2)"
   ]
  },
  {
   "cell_type": "code",
   "execution_count": 4,
   "id": "a73e0b94",
   "metadata": {},
   "outputs": [],
   "source": [
    "train_X = train_features.values\n",
    "test_X = test_features.values\n",
    "train_y = train_labels.values\n",
    "test_y = test_labels.values"
   ]
  },
  {
   "cell_type": "code",
   "execution_count": 5,
   "id": "ac1951fb",
   "metadata": {
    "scrolled": true
   },
   "outputs": [
    {
     "name": "stdout",
     "output_type": "stream",
     "text": [
      "最佳參數組合: {'metric': 'manhattan', 'n_neighbors': 5, 'weights': 'uniform'}\n"
     ]
    }
   ],
   "source": [
    "import numpy as np\n",
    "from sklearn.pipeline import make_pipeline\n",
    "from sklearn.preprocessing import StandardScaler\n",
    "from sklearn.svm import SVC\n",
    "\n",
    "clf = make_pipeline(StandardScaler(), SVC(gamma='auto'))\n",
    "clf.fit(train_X, train_y)\n",
    "\n",
    "\n",
    "param_grid = {'n_neighbors': [1, 3, 5, 7, 9, 11], 'weights': ['uniform', 'distance'], \n",
    "              'metric': ['hamming', 'euclidean', 'manhattan']}\n",
    "grid_search = GridSearchCV(KNN, param_grid, cv=5)\n",
    "grid_search.fit(train_X,train_y)\n",
    "print(\"最佳參數組合:\", grid_search.best_params_)\n",
    "KNN = grid_search.best_estimator_\n",
    "results = pd.DataFrame(grid_search.cv_results_)\n",
    "results.to_csv('grid_search_results.csv', index=False)"
   ]
  },
  {
   "cell_type": "code",
   "execution_count": 6,
   "id": "bdba614c",
   "metadata": {},
   "outputs": [],
   "source": [
    "predict = clf.predict(test_X)"
   ]
  },
  {
   "cell_type": "code",
   "execution_count": 7,
   "id": "d5886118",
   "metadata": {},
   "outputs": [
    {
     "name": "stdout",
     "output_type": "stream",
     "text": [
      "[0 1 0 1 0]\n",
      "[0 0 0 1 0]\n"
     ]
    }
   ],
   "source": [
    "print(predict)\n",
    "print(test_y)"
   ]
  },
  {
   "cell_type": "code",
   "execution_count": 8,
   "id": "96e2efdc",
   "metadata": {},
   "outputs": [
    {
     "name": "stdout",
     "output_type": "stream",
     "text": [
      "Accuracy:  0.8\n"
     ]
    }
   ],
   "source": [
    "from sklearn.metrics import accuracy_score\n",
    "\n",
    "accuracy = accuracy_score(test_y, predict)\n",
    "print(\"Accuracy: \", accuracy)"
   ]
  },
  {
   "cell_type": "markdown",
   "id": "f0be9d87",
   "metadata": {},
   "source": [
    "## test"
   ]
  },
  {
   "cell_type": "code",
   "execution_count": 9,
   "id": "7003285d",
   "metadata": {
    "scrolled": true
   },
   "outputs": [],
   "source": [
    "df2 = pd.read_excel('Data.xlsx', sheet_name=2, skiprows=1)"
   ]
  },
  {
   "cell_type": "code",
   "execution_count": 10,
   "id": "962ffc99",
   "metadata": {},
   "outputs": [
    {
     "name": "stdout",
     "output_type": "stream",
     "text": [
      "Accuracy:  0.8571428571428571\n"
     ]
    }
   ],
   "source": [
    "features = df2.iloc[:, :-1]  # 提取除最後一列外的所有列作為特徵\n",
    "labels = df2.iloc[:, -1]  # 提取最後一列作為標籤\n",
    "\n",
    "X = features.values\n",
    "y = labels.values\n",
    "\n",
    "predict = KNN.predict(X)\n",
    "accuracy = accuracy_score(y, predict)\n",
    "print(\"Accuracy: \", accuracy)"
   ]
  },
  {
   "cell_type": "code",
   "execution_count": null,
   "id": "c891969d",
   "metadata": {},
   "outputs": [],
   "source": []
  }
 ],
 "metadata": {
  "kernelspec": {
   "display_name": "Python 3 (ipykernel)",
   "language": "python",
   "name": "python3"
  },
  "language_info": {
   "codemirror_mode": {
    "name": "ipython",
    "version": 3
   },
   "file_extension": ".py",
   "mimetype": "text/x-python",
   "name": "python",
   "nbconvert_exporter": "python",
   "pygments_lexer": "ipython3",
   "version": "3.10.9"
  }
 },
 "nbformat": 4,
 "nbformat_minor": 5
}
